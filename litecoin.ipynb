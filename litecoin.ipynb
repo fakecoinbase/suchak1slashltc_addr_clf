{
 "cells": [
  {
   "cell_type": "code",
   "execution_count": 1,
   "metadata": {},
   "outputs": [],
   "source": [
    "# necessary packages\n",
    "import pandas as pd\n",
    "import multiprocessing as mp\n",
    "import time\n",
    "import pickle\n",
    "import networkx\n",
    "import matplotlib.pyplot as plt"
   ]
  },
  {
   "cell_type": "markdown",
   "metadata": {},
   "source": [
    "## Creating a DataFrame from the Dataset"
   ]
  },
  {
   "cell_type": "code",
   "execution_count": 3,
   "metadata": {},
   "outputs": [],
   "source": [
    "def load_data(filename):\n",
    "    df = pd.read_csv(filename)\n",
    "    return df\n",
    "df = load_data('data.csv')"
   ]
  },
  {
   "cell_type": "markdown",
   "metadata": {},
   "source": [
    "## Creating Address Clusters"
   ]
  },
  {
   "cell_type": "code",
   "execution_count": 7,
   "metadata": {
    "scrolled": true
   },
   "outputs": [],
   "source": [
    "def get_input_addrs(tx):\n",
    "    return set(df[df['tx_hash'] == tx]['inputs_addresses'])\n",
    "\n",
    "def get_prelim_clusters(df):\n",
    "    start = time.time()\n",
    "    with mp.Pool() as pool:\n",
    "        prelim = pool.map(get_input_addrs, set(df['tx_hash']))\n",
    "        pool.close()\n",
    "        pool.join()\n",
    "    end = time.time()\n",
    "    print(f'Creating the prelim clusters took {round((end - start) / 60, 2)} min.')\n",
    "    return prelim\n",
    "\n",
    "def construct_clusters(prelim):\n",
    "    def pairs(lst):\n",
    "        i = iter(lst)\n",
    "        first = prev = item = next(i)\n",
    "        for item in i:\n",
    "            yield prev, item\n",
    "            prev = item\n",
    "        yield item, first\n",
    "        \n",
    "    graph = networkx.Graph()\n",
    "    for cluster in prelim:\n",
    "        for edge in pairs(cluster):\n",
    "            graph.add_edge(*edge)\n",
    "    clusters = list(networkx.connected_components(graph))\n",
    "    return clusters\n",
    "\n",
    "def write_clusters(clusters):\n",
    "    clusters.sort(key=len, reverse=True)\n",
    "    lookup = {'addrs': [], 'cluster_num': [], 'label': [], 'entity': []}\n",
    "    for idx, cluster in enumerate(clusters):\n",
    "        for addr in cluster:\n",
    "            lookup['addrs'].append(addr)\n",
    "            lookup['cluster_num'].append(idx + 1)\n",
    "            lookup['label'].append(None)\n",
    "            lookup['entity'].append(None)\n",
    "    pd.DataFrame.from_dict(lookup).to_csv('clusters.csv', index=False)\n",
    "\n",
    "# prelim = get_prelim_clusters(df)\n",
    "# clusters = construct_clusters(prelim)\n",
    "# write_clusters(clusters)"
   ]
  },
  {
   "cell_type": "markdown",
   "metadata": {},
   "source": [
    "## Labeling the Data"
   ]
  },
  {
   "cell_type": "code",
   "execution_count": 25,
   "metadata": {},
   "outputs": [
    {
     "data": {
      "image/png": "[encoded data removed]",
      "text/plain": [
       "<Figure size 432x288 with 1 Axes>"
      ]
     },
     "metadata": {
      "needs_background": "light"
     },
     "output_type": "display_data"
    },
    {
     "name": "stdout",
     "output_type": "stream",
     "text": [
      "The top 75 clusters (in terms of size) contain 29.62% of the addresses.\n"
     ]
    }
   ],
   "source": [
    "clusters = pd.read_csv('clusters.csv')\n",
    "gb = clusters.groupby('cluster_num', as_index = False).count()\n",
    "# plt.bar(gb['addrs'][:1000])\n",
    "plt.scatter(gb['cluster_num'][2:500], gb['addrs'][2:500])\n",
    "plt.axvline(75, color = 'red')\n",
    "plt.xlabel('Cluster Number')\n",
    "plt.ylabel('Number of Addresses')\n",
    "plt.title('Size of Clusters for the Top 500 Address Clusters')\n",
    "plt.show()\n",
    "percent = round(sum(gb['addrs'][:75])/sum(gb['addrs']) * 100, 2)\n",
    "print(f'The top 75 clusters (in terms of size) contain {percent}% of the addresses.')"
   ]
  }
 ],
 "metadata": {
  "kernelspec": {
   "display_name": "Python 3",
   "language": "python",
   "name": "python3"
  },
  "language_info": {
   "codemirror_mode": {
    "name": "ipython",
    "version": 3
   },
   "file_extension": ".py",
   "mimetype": "text/x-python",
   "name": "python",
   "nbconvert_exporter": "python",
   "pygments_lexer": "ipython3",
   "version": "3.7.4"
  },
  "widgets": {
   "application/vnd.jupyter.widget-state+json": {
    "state": {},
    "version_major": 2,
    "version_minor": 0
   }
  }
 },
 "nbformat": 4,
 "nbformat_minor": 2
}
